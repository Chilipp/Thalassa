{
 "cells": [
  {
   "cell_type": "markdown",
   "id": "temporal-antarctica",
   "metadata": {},
   "source": [
    "# Run Thalassa in notebook"
   ]
  },
  {
   "cell_type": "code",
   "execution_count": null,
   "id": "appointed-wyoming",
   "metadata": {},
   "outputs": [],
   "source": [
    "import panel as pn"
   ]
  },
  {
   "cell_type": "code",
   "execution_count": null,
   "id": "human-yield",
   "metadata": {},
   "outputs": [],
   "source": [
    "from thalassa import paths"
   ]
  },
  {
   "cell_type": "code",
   "execution_count": null,
   "id": "sweet-redhead",
   "metadata": {},
   "outputs": [],
   "source": [
    "from thalassa import utils"
   ]
  },
  {
   "cell_type": "code",
   "execution_count": null,
   "id": "planned-permit",
   "metadata": {},
   "outputs": [],
   "source": [
    "data_dir = paths.PACKAGE.parent / 'data'"
   ]
  },
  {
   "cell_type": "code",
   "execution_count": null,
   "id": "coastal-helmet",
   "metadata": {},
   "outputs": [],
   "source": [
    "from thalassa.panels import elevation_max\n",
    "from thalassa.panels import elevation\n",
    "from thalassa.panels import video\n",
    "from thalassa.panels import grid\n",
    "from thalassa.panels import about\n",
    "from thalassa.panels import time_series\n"
   ]
  },
  {
   "cell_type": "code",
   "execution_count": null,
   "id": "falling-coating",
   "metadata": {},
   "outputs": [],
   "source": [
    "dataset_path = data_dir / \"dataset.nc\"\n",
    "dataset = utils.get_dataset(dataset_path)"
   ]
  },
  {
   "cell_type": "code",
   "execution_count": null,
   "id": "grave-today",
   "metadata": {},
   "outputs": [],
   "source": [
    "pn.serve(\n",
    "    panels={\n",
    "        \"About\": lambda: about(data_dir),\n",
    "        \"Mesh\": lambda: grid(dataset),#data_dir),\n",
    "        \"Elevation\": lambda: elevation_max(dataset),#data_dir),\n",
    "        \"Forecast\": lambda: elevation(dataset),#data_dir),\n",
    "        \"Animation\": lambda: video(data_dir),\n",
    "        \"Stations\": lambda: time_series(data_dir)\n",
    "    },\n",
    "    title={\n",
    "        \"About\": \"General Info\",\n",
    "        \"Mesh\": \"Display grid\",\n",
    "        \"Elevation\": \"Interactive map with the maximum elevation in the next 72hours\",\n",
    "        \"Forecast\": \"Interactive maps with hourly elevation for the next 72hours\",\n",
    "        \"Animation\": \"Video with the evolution of elevation data\",\n",
    "        \"Stations\": \"Tide guage Time Series\",\n",
    "    },\n",
    "    port=5006,\n",
    "    index=(paths.TEMPLATES / \"index.html\").resolve().as_posix(),\n",
    "    show=True,\n",
    "    websocket_origin='localhost',\n",
    ")"
   ]
  },
  {
   "cell_type": "code",
   "execution_count": null,
   "id": "endangered-shift",
   "metadata": {},
   "outputs": [],
   "source": []
  }
 ],
 "metadata": {
  "kernelspec": {
   "display_name": "panel",
   "language": "python",
   "name": "panel"
  },
  "language_info": {
   "codemirror_mode": {
    "name": "ipython",
    "version": 3
   },
   "file_extension": ".py",
   "mimetype": "text/x-python",
   "name": "python",
   "nbconvert_exporter": "python",
   "pygments_lexer": "ipython3",
   "version": "3.8.8"
  }
 },
 "nbformat": 4,
 "nbformat_minor": 5
}
