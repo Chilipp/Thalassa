{
 "cells": [
  {
   "cell_type": "code",
   "execution_count": null,
   "id": "0f70a4d6-dd62-417e-adc8-b911ae408d6c",
   "metadata": {},
   "outputs": [],
   "source": [
    "import thalassa\n",
    "\n",
    "reload = lambda: thalassa.reload(\"thalassa\")"
   ]
  },
  {
   "cell_type": "code",
   "execution_count": null,
   "id": "e0714d22-9986-441a-8f1a-4f38f056a03e",
   "metadata": {
    "tags": []
   },
   "outputs": [],
   "source": [
    "# Open a dataset\n",
    "reload()\n",
    "ds = thalassa.open_dataset(\"data/dataset.nc\")\n",
    "ds"
   ]
  },
  {
   "cell_type": "code",
   "execution_count": null,
   "id": "0222a517-1806-4f73-a797-31df32fae1a9",
   "metadata": {},
   "outputs": [],
   "source": [
    "# Createa a trimesh object\n",
    "# you will need a different trimesh object for each timestamp you want to plot\n",
    "# If you set `timestamp` equal to `\"MAXIMUM\"` then the maximum elevation of \n",
    "# the whole dataset gets calculated\n",
    "reload()\n",
    "\n",
    "trimesh = thalassa.get_trimesh(\n",
    "    dataset=ds,\n",
    "    longitude_var=\"SCHISM_hgrid_node_x\",\n",
    "    latitude_var=\"SCHISM_hgrid_node_y\",\n",
    "    elevation_var=\"elev\",\n",
    "    simplices_var=\"SCHISM_hgrid_face_nodes\",\n",
    "    time_var=\"time\",\n",
    "    timestamp=\"MAXIMUM\",\n",
    "#    timestamp=\"2020-01-01T01:00:00.000000000\",\n",
    ")\n",
    "\n"
   ]
  },
  {
   "cell_type": "code",
   "execution_count": null,
   "id": "87500954-7d25-48ef-8e3d-559155e8e405",
   "metadata": {},
   "outputs": [],
   "source": [
    "dmap = thalassa.get_elevation_dmap(trimesh=trimesh)\n",
    "dmap.opts(width=600)"
   ]
  },
  {
   "cell_type": "code",
   "execution_count": null,
   "id": "b212ee5a-3ba7-4210-94f3-bfb9650fb04a",
   "metadata": {},
   "outputs": [],
   "source": [
    "dmap = thalassa.get_elevation_dmap(trimesh=trimesh, show_grid=True)\n",
    "dmap.opts(width=600)"
   ]
  },
  {
   "cell_type": "code",
   "execution_count": null,
   "id": "6f831013-028d-4c00-a7f8-db54a2d5375d",
   "metadata": {},
   "outputs": [],
   "source": []
  }
 ],
 "metadata": {
  "kernelspec": {
   "display_name": "Python 3 (ipykernel)",
   "language": "python",
   "name": "python3"
  },
  "language_info": {
   "codemirror_mode": {
    "name": "ipython",
    "version": 3
   },
   "file_extension": ".py",
   "mimetype": "text/x-python",
   "name": "python",
   "nbconvert_exporter": "python",
   "pygments_lexer": "ipython3",
   "version": "3.8.12"
  }
 },
 "nbformat": 4,
 "nbformat_minor": 5
}
