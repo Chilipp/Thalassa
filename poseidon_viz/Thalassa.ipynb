{
 "cells": [
  {
   "cell_type": "markdown",
   "id": "tired-death",
   "metadata": {},
   "source": [
    "# Run Thalassa in notebook"
   ]
  },
  {
   "cell_type": "code",
   "execution_count": 16,
   "id": "exterior-theta",
   "metadata": {},
   "outputs": [],
   "source": [
    "import panel as pn"
   ]
  },
  {
   "cell_type": "code",
   "execution_count": 17,
   "id": "tracked-showcase",
   "metadata": {},
   "outputs": [],
   "source": [
    "import paths"
   ]
  },
  {
   "cell_type": "code",
   "execution_count": 18,
   "id": "smaller-afternoon",
   "metadata": {},
   "outputs": [],
   "source": [
    "data_dir = paths.PACKAGE.parent / 'data'"
   ]
  },
  {
   "cell_type": "code",
   "execution_count": 19,
   "id": "statistical-baker",
   "metadata": {},
   "outputs": [],
   "source": [
    "from panels import elevation_max\n",
    "from panels import elevation\n",
    "from panels import video\n",
    "from panels import grid\n",
    "from panels import about\n",
    "from panels import time_series\n"
   ]
  },
  {
   "cell_type": "code",
   "execution_count": 20,
   "id": "gross-jumping",
   "metadata": {},
   "outputs": [
    {
     "name": "stdout",
     "output_type": "stream",
     "text": [
      "Launching server at http://localhost:63574\n"
     ]
    },
    {
     "data": {
      "text/plain": [
       "<bokeh.server.server.Server at 0x7fd4edb90190>"
      ]
     },
     "execution_count": 20,
     "metadata": {},
     "output_type": "execute_result"
    }
   ],
   "source": [
    "pn.serve(\n",
    "    panels={\n",
    "        \"About\": lambda: about(data_dir),\n",
    "        \"Mesh\": lambda: grid(data_dir),\n",
    "        \"Elevation\": lambda: elevation_max(data_dir),\n",
    "        \"Forecast\": lambda: elevation(data_dir),\n",
    "        \"Animation\": lambda: video(data_dir),\n",
    "        \"Stations\": lambda: time_series(data_dir)\n",
    "    },\n",
    "    title={\n",
    "        \"About\": \"General Info\",\n",
    "        \"Mesh\": \"Display grid\",\n",
    "        \"Elevation\": \"Interactive map with the maximum elevation in the next 72hours\",\n",
    "        \"Forecast\": \"Interactive maps with hourly elevation for the next 72hours\",\n",
    "        \"Animation\": \"Video with the evolution of elevation data\",\n",
    "        \"Stations\": \"Tide guage Time Series\",\n",
    "    },\n",
    "#    port=80,\n",
    "    index=(paths.TEMPLATES / \"index.html\").resolve().as_posix(),\n",
    "    show=True,\n",
    "#    websocket_origin='localhost',\n",
    ")"
   ]
  },
  {
   "cell_type": "code",
   "execution_count": null,
   "id": "decent-mobility",
   "metadata": {},
   "outputs": [],
   "source": []
  }
 ],
 "metadata": {
  "kernelspec": {
   "display_name": "panel",
   "language": "python",
   "name": "panel"
  },
  "language_info": {
   "codemirror_mode": {
    "name": "ipython",
    "version": 3
   },
   "file_extension": ".py",
   "mimetype": "text/x-python",
   "name": "python",
   "nbconvert_exporter": "python",
   "pygments_lexer": "ipython3",
   "version": "3.8.6"
  }
 },
 "nbformat": 4,
 "nbformat_minor": 5
}
